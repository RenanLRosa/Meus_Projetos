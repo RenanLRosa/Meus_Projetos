{
 "cells": [
  {
   "cell_type": "code",
   "execution_count": 1,
   "metadata": {},
   "outputs": [],
   "source": [
    "import pandas as pd\n",
    "import plotly.express as px"
   ]
  },
  {
   "cell_type": "code",
   "execution_count": 27,
   "metadata": {},
   "outputs": [
    {
     "data": {
      "text/html": [
       "<div>\n",
       "<style scoped>\n",
       "    .dataframe tbody tr th:only-of-type {\n",
       "        vertical-align: middle;\n",
       "    }\n",
       "\n",
       "    .dataframe tbody tr th {\n",
       "        vertical-align: top;\n",
       "    }\n",
       "\n",
       "    .dataframe thead th {\n",
       "        text-align: right;\n",
       "    }\n",
       "</style>\n",
       "<table border=\"1\" class=\"dataframe\">\n",
       "  <thead>\n",
       "    <tr style=\"text-align: right;\">\n",
       "      <th></th>\n",
       "      <th>nome</th>\n",
       "      <th>bioma</th>\n",
       "      <th>estado</th>\n",
       "      <th>mata_atlantica?</th>\n",
       "      <th>OBS</th>\n",
       "    </tr>\n",
       "  </thead>\n",
       "  <tbody>\n",
       "    <tr>\n",
       "      <th>0</th>\n",
       "      <td>Morro do Chapéu</td>\n",
       "      <td>Caatinga</td>\n",
       "      <td>BA</td>\n",
       "      <td>0</td>\n",
       "      <td>NaN</td>\n",
       "    </tr>\n",
       "    <tr>\n",
       "      <th>1</th>\n",
       "      <td>Alto vale do Ribeira</td>\n",
       "      <td>Mata Atlântica</td>\n",
       "      <td>PR/SP</td>\n",
       "      <td>1</td>\n",
       "      <td>NaN</td>\n",
       "    </tr>\n",
       "    <tr>\n",
       "      <th>2</th>\n",
       "      <td>Alto Rio Contas</td>\n",
       "      <td>Caatinga</td>\n",
       "      <td>BA</td>\n",
       "      <td>0</td>\n",
       "      <td>NaN</td>\n",
       "    </tr>\n",
       "    <tr>\n",
       "      <th>3</th>\n",
       "      <td>São Desidério</td>\n",
       "      <td>Caatinga</td>\n",
       "      <td>BA</td>\n",
       "      <td>0</td>\n",
       "      <td>NaN</td>\n",
       "    </tr>\n",
       "    <tr>\n",
       "      <th>4</th>\n",
       "      <td>Quadrilátero ferrífero</td>\n",
       "      <td>Mata Atlântica, Cerrado</td>\n",
       "      <td>MG</td>\n",
       "      <td>1</td>\n",
       "      <td>NaN</td>\n",
       "    </tr>\n",
       "    <tr>\n",
       "      <th>5</th>\n",
       "      <td>Litoral Sul de Pernambuco</td>\n",
       "      <td>Mata Atlântica</td>\n",
       "      <td>PE</td>\n",
       "      <td>1</td>\n",
       "      <td>Mata A. devastada e mangue</td>\n",
       "    </tr>\n",
       "    <tr>\n",
       "      <th>6</th>\n",
       "      <td>Sertão Monumental</td>\n",
       "      <td>Caatinga</td>\n",
       "      <td>CE</td>\n",
       "      <td>0</td>\n",
       "      <td>NaN</td>\n",
       "    </tr>\n",
       "    <tr>\n",
       "      <th>7</th>\n",
       "      <td>Cachoeiras do Amazonas</td>\n",
       "      <td>Amazônia</td>\n",
       "      <td>AM</td>\n",
       "      <td>0</td>\n",
       "      <td>NaN</td>\n",
       "    </tr>\n",
       "    <tr>\n",
       "      <th>8</th>\n",
       "      <td>Pireneus</td>\n",
       "      <td>Cerrado</td>\n",
       "      <td>GO</td>\n",
       "      <td>0</td>\n",
       "      <td>NaN</td>\n",
       "    </tr>\n",
       "    <tr>\n",
       "      <th>9</th>\n",
       "      <td>Astroblema De Araguainha-Ponte Branca</td>\n",
       "      <td>Cerrado</td>\n",
       "      <td>GO/MT</td>\n",
       "      <td>0</td>\n",
       "      <td>NaN</td>\n",
       "    </tr>\n",
       "    <tr>\n",
       "      <th>10</th>\n",
       "      <td>Bodoquena-Pantanal</td>\n",
       "      <td>Pantanal, Cerrado, Mata Atlântica</td>\n",
       "      <td>MS</td>\n",
       "      <td>1</td>\n",
       "      <td>Influência mata atlântica</td>\n",
       "    </tr>\n",
       "    <tr>\n",
       "      <th>11</th>\n",
       "      <td>Chapada dos Guimarães</td>\n",
       "      <td>Cerrado</td>\n",
       "      <td>MT</td>\n",
       "      <td>0</td>\n",
       "      <td>NaN</td>\n",
       "    </tr>\n",
       "    <tr>\n",
       "      <th>12</th>\n",
       "      <td>Fernando de Noronha</td>\n",
       "      <td>Mata Atlântica</td>\n",
       "      <td>PE</td>\n",
       "      <td>1</td>\n",
       "      <td>Incerto</td>\n",
       "    </tr>\n",
       "    <tr>\n",
       "      <th>13</th>\n",
       "      <td>Seridó</td>\n",
       "      <td>Caatinga</td>\n",
       "      <td>RN</td>\n",
       "      <td>0</td>\n",
       "      <td>NaN</td>\n",
       "    </tr>\n",
       "    <tr>\n",
       "      <th>14</th>\n",
       "      <td>Quarta Colônia</td>\n",
       "      <td>Mata Atlântica, Pampa</td>\n",
       "      <td>RS</td>\n",
       "      <td>1</td>\n",
       "      <td>NaN</td>\n",
       "    </tr>\n",
       "    <tr>\n",
       "      <th>15</th>\n",
       "      <td>Caminhos dos Cânions do Sul</td>\n",
       "      <td>Mata Atlântica</td>\n",
       "      <td>RS/SC</td>\n",
       "      <td>1</td>\n",
       "      <td>NaN</td>\n",
       "    </tr>\n",
       "    <tr>\n",
       "      <th>16</th>\n",
       "      <td>Serra da Capivara</td>\n",
       "      <td>Caatinga</td>\n",
       "      <td>PI</td>\n",
       "      <td>0</td>\n",
       "      <td>NaN</td>\n",
       "    </tr>\n",
       "    <tr>\n",
       "      <th>17</th>\n",
       "      <td>Uberaba: Terra dos dinossauros</td>\n",
       "      <td>Cerrado, Mata Atlântica</td>\n",
       "      <td>MG</td>\n",
       "      <td>0</td>\n",
       "      <td>NaN</td>\n",
       "    </tr>\n",
       "    <tr>\n",
       "      <th>18</th>\n",
       "      <td>Catimbau-Pedra Furada</td>\n",
       "      <td>Mata Atlântica</td>\n",
       "      <td>PE</td>\n",
       "      <td>1</td>\n",
       "      <td>Pouca mas tem.</td>\n",
       "    </tr>\n",
       "    <tr>\n",
       "      <th>19</th>\n",
       "      <td>Sete Cidades-Pedro II</td>\n",
       "      <td>Caatinga, Cerrado</td>\n",
       "      <td>PI</td>\n",
       "      <td>0</td>\n",
       "      <td>NaN</td>\n",
       "    </tr>\n",
       "    <tr>\n",
       "      <th>20</th>\n",
       "      <td>Chapada Diamantina</td>\n",
       "      <td>Caatinga, Cerrado, Mata Atlântica</td>\n",
       "      <td>BA</td>\n",
       "      <td>1</td>\n",
       "      <td>NaN</td>\n",
       "    </tr>\n",
       "    <tr>\n",
       "      <th>21</th>\n",
       "      <td>Rio de Contas</td>\n",
       "      <td>Caatinga, Cerrado</td>\n",
       "      <td>BA</td>\n",
       "      <td>0</td>\n",
       "      <td>NaN</td>\n",
       "    </tr>\n",
       "    <tr>\n",
       "      <th>22</th>\n",
       "      <td>Monte Alegre</td>\n",
       "      <td>Amazônia</td>\n",
       "      <td>PA</td>\n",
       "      <td>0</td>\n",
       "      <td>NaN</td>\n",
       "    </tr>\n",
       "    <tr>\n",
       "      <th>23</th>\n",
       "      <td>Alto Alegre dos Parecis</td>\n",
       "      <td>Amazônia</td>\n",
       "      <td>RO</td>\n",
       "      <td>0</td>\n",
       "      <td>NaN</td>\n",
       "    </tr>\n",
       "    <tr>\n",
       "      <th>24</th>\n",
       "      <td>Serra da Canastra</td>\n",
       "      <td>Cerrado</td>\n",
       "      <td>MG</td>\n",
       "      <td>0</td>\n",
       "      <td>NaN</td>\n",
       "    </tr>\n",
       "    <tr>\n",
       "      <th>25</th>\n",
       "      <td>Chapada dos Veadeiros</td>\n",
       "      <td>Cerrado</td>\n",
       "      <td>GO</td>\n",
       "      <td>0</td>\n",
       "      <td>NaN</td>\n",
       "    </tr>\n",
       "    <tr>\n",
       "      <th>26</th>\n",
       "      <td>Canudos</td>\n",
       "      <td>Caatinga</td>\n",
       "      <td>BA</td>\n",
       "      <td>0</td>\n",
       "      <td>NaN</td>\n",
       "    </tr>\n",
       "    <tr>\n",
       "      <th>27</th>\n",
       "      <td>Cânion do São Francisco</td>\n",
       "      <td>Caatinga</td>\n",
       "      <td>SE/AL</td>\n",
       "      <td>0</td>\n",
       "      <td>NaN</td>\n",
       "    </tr>\n",
       "    <tr>\n",
       "      <th>28</th>\n",
       "      <td>Rio do Peixe</td>\n",
       "      <td>Caatinga</td>\n",
       "      <td>PB</td>\n",
       "      <td>0</td>\n",
       "      <td>NaN</td>\n",
       "    </tr>\n",
       "    <tr>\n",
       "      <th>29</th>\n",
       "      <td>Vale Monumental</td>\n",
       "      <td>Incerto</td>\n",
       "      <td>CE</td>\n",
       "      <td>0</td>\n",
       "      <td>Meio incógnito (em criação?)</td>\n",
       "    </tr>\n",
       "    <tr>\n",
       "      <th>30</th>\n",
       "      <td>Tepuis</td>\n",
       "      <td>Amazônia</td>\n",
       "      <td>RR</td>\n",
       "      <td>0</td>\n",
       "      <td>Amazonico acho</td>\n",
       "    </tr>\n",
       "    <tr>\n",
       "      <th>31</th>\n",
       "      <td>Cânion do Rio Potí</td>\n",
       "      <td>Caatinga</td>\n",
       "      <td>PI</td>\n",
       "      <td>0</td>\n",
       "      <td>NaN</td>\n",
       "    </tr>\n",
       "    <tr>\n",
       "      <th>32</th>\n",
       "      <td>Delta do Parnaíba</td>\n",
       "      <td>Caatinga, Cerrado</td>\n",
       "      <td>PI</td>\n",
       "      <td>0</td>\n",
       "      <td>NaN</td>\n",
       "    </tr>\n",
       "    <tr>\n",
       "      <th>33</th>\n",
       "      <td>Ubajara</td>\n",
       "      <td>Caatinga, Mata Atlântica</td>\n",
       "      <td>CE</td>\n",
       "      <td>1</td>\n",
       "      <td>Inserido na caatinga mas com partes de mata at...</td>\n",
       "    </tr>\n",
       "    <tr>\n",
       "      <th>34</th>\n",
       "      <td>Guaritas-Minas do Camaquã</td>\n",
       "      <td>Pampa</td>\n",
       "      <td>RS</td>\n",
       "      <td>0</td>\n",
       "      <td>NaN</td>\n",
       "    </tr>\n",
       "    <tr>\n",
       "      <th>35</th>\n",
       "      <td>Costões e Lagunas do Estado do Rio de Janeiro</td>\n",
       "      <td>Mata Atlântica</td>\n",
       "      <td>RJ</td>\n",
       "      <td>1</td>\n",
       "      <td>NaN</td>\n",
       "    </tr>\n",
       "    <tr>\n",
       "      <th>36</th>\n",
       "      <td>Ciclo do Ouro de Guarulhos</td>\n",
       "      <td>Mata Atlântica</td>\n",
       "      <td>SP</td>\n",
       "      <td>1</td>\n",
       "      <td>NaN</td>\n",
       "    </tr>\n",
       "    <tr>\n",
       "      <th>37</th>\n",
       "      <td>Campos Gerais</td>\n",
       "      <td>Cerrado, Mata Atlântica</td>\n",
       "      <td>PR</td>\n",
       "      <td>1</td>\n",
       "      <td>NaN</td>\n",
       "    </tr>\n",
       "    <tr>\n",
       "      <th>38</th>\n",
       "      <td>Inselbergs de Itatim - Milagres</td>\n",
       "      <td>Caatinga</td>\n",
       "      <td>BA</td>\n",
       "      <td>0</td>\n",
       "      <td>Não tenho certeza se é mata atlântica</td>\n",
       "    </tr>\n",
       "    <tr>\n",
       "      <th>39</th>\n",
       "      <td>Iraquara</td>\n",
       "      <td>Caatinga</td>\n",
       "      <td>BA</td>\n",
       "      <td>0</td>\n",
       "      <td>Não tenho certeza</td>\n",
       "    </tr>\n",
       "  </tbody>\n",
       "</table>\n",
       "</div>"
      ],
      "text/plain": [
       "                                             nome  \\\n",
       "0                                 Morro do Chapéu   \n",
       "1                            Alto vale do Ribeira   \n",
       "2                                 Alto Rio Contas   \n",
       "3                                   São Desidério   \n",
       "4                          Quadrilátero ferrífero   \n",
       "5                       Litoral Sul de Pernambuco   \n",
       "6                               Sertão Monumental   \n",
       "7                          Cachoeiras do Amazonas   \n",
       "8                                        Pireneus   \n",
       "9           Astroblema De Araguainha-Ponte Branca   \n",
       "10                             Bodoquena-Pantanal   \n",
       "11                          Chapada dos Guimarães   \n",
       "12                            Fernando de Noronha   \n",
       "13                                         Seridó   \n",
       "14                                 Quarta Colônia   \n",
       "15                    Caminhos dos Cânions do Sul   \n",
       "16                              Serra da Capivara   \n",
       "17                 Uberaba: Terra dos dinossauros   \n",
       "18                          Catimbau-Pedra Furada   \n",
       "19                          Sete Cidades-Pedro II   \n",
       "20                             Chapada Diamantina   \n",
       "21                                  Rio de Contas   \n",
       "22                                   Monte Alegre   \n",
       "23                        Alto Alegre dos Parecis   \n",
       "24                              Serra da Canastra   \n",
       "25                          Chapada dos Veadeiros   \n",
       "26                                        Canudos   \n",
       "27                        Cânion do São Francisco   \n",
       "28                                   Rio do Peixe   \n",
       "29                                Vale Monumental   \n",
       "30                                         Tepuis   \n",
       "31                             Cânion do Rio Potí   \n",
       "32                              Delta do Parnaíba   \n",
       "33                                        Ubajara   \n",
       "34                      Guaritas-Minas do Camaquã   \n",
       "35  Costões e Lagunas do Estado do Rio de Janeiro   \n",
       "36                     Ciclo do Ouro de Guarulhos   \n",
       "37                                  Campos Gerais   \n",
       "38                Inselbergs de Itatim - Milagres   \n",
       "39                                       Iraquara   \n",
       "\n",
       "                                bioma estado  mata_atlantica?  \\\n",
       "0                            Caatinga     BA                0   \n",
       "1                      Mata Atlântica  PR/SP                1   \n",
       "2                            Caatinga     BA                0   \n",
       "3                            Caatinga     BA                0   \n",
       "4             Mata Atlântica, Cerrado     MG                1   \n",
       "5                      Mata Atlântica     PE                1   \n",
       "6                            Caatinga     CE                0   \n",
       "7                            Amazônia     AM                0   \n",
       "8                             Cerrado     GO                0   \n",
       "9                             Cerrado  GO/MT                0   \n",
       "10  Pantanal, Cerrado, Mata Atlântica     MS                1   \n",
       "11                            Cerrado     MT                0   \n",
       "12                     Mata Atlântica     PE                1   \n",
       "13                           Caatinga     RN                0   \n",
       "14              Mata Atlântica, Pampa     RS                1   \n",
       "15                     Mata Atlântica  RS/SC                1   \n",
       "16                           Caatinga     PI                0   \n",
       "17            Cerrado, Mata Atlântica     MG                0   \n",
       "18                     Mata Atlântica     PE                1   \n",
       "19                  Caatinga, Cerrado     PI                0   \n",
       "20  Caatinga, Cerrado, Mata Atlântica     BA                1   \n",
       "21                  Caatinga, Cerrado     BA                0   \n",
       "22                           Amazônia     PA                0   \n",
       "23                           Amazônia     RO                0   \n",
       "24                            Cerrado     MG                0   \n",
       "25                            Cerrado     GO                0   \n",
       "26                           Caatinga     BA                0   \n",
       "27                           Caatinga  SE/AL                0   \n",
       "28                           Caatinga     PB                0   \n",
       "29                            Incerto     CE                0   \n",
       "30                           Amazônia     RR                0   \n",
       "31                           Caatinga     PI                0   \n",
       "32                  Caatinga, Cerrado     PI                0   \n",
       "33           Caatinga, Mata Atlântica     CE                1   \n",
       "34                              Pampa     RS                0   \n",
       "35                     Mata Atlântica     RJ                1   \n",
       "36                     Mata Atlântica     SP                1   \n",
       "37            Cerrado, Mata Atlântica     PR                1   \n",
       "38                           Caatinga     BA                0   \n",
       "39                           Caatinga     BA                0   \n",
       "\n",
       "                                                  OBS  \n",
       "0                                                 NaN  \n",
       "1                                                 NaN  \n",
       "2                                                 NaN  \n",
       "3                                                 NaN  \n",
       "4                                                 NaN  \n",
       "5                          Mata A. devastada e mangue  \n",
       "6                                                 NaN  \n",
       "7                                                 NaN  \n",
       "8                                                 NaN  \n",
       "9                                                 NaN  \n",
       "10                          Influência mata atlântica  \n",
       "11                                                NaN  \n",
       "12                                            Incerto  \n",
       "13                                                NaN  \n",
       "14                                                NaN  \n",
       "15                                                NaN  \n",
       "16                                                NaN  \n",
       "17                                                NaN  \n",
       "18                                     Pouca mas tem.  \n",
       "19                                                NaN  \n",
       "20                                                NaN  \n",
       "21                                                NaN  \n",
       "22                                                NaN  \n",
       "23                                                NaN  \n",
       "24                                                NaN  \n",
       "25                                                NaN  \n",
       "26                                                NaN  \n",
       "27                                                NaN  \n",
       "28                                                NaN  \n",
       "29                       Meio incógnito (em criação?)  \n",
       "30                                     Amazonico acho  \n",
       "31                                                NaN  \n",
       "32                                                NaN  \n",
       "33  Inserido na caatinga mas com partes de mata at...  \n",
       "34                                                NaN  \n",
       "35                                                NaN  \n",
       "36                                                NaN  \n",
       "37                                                NaN  \n",
       "38              Não tenho certeza se é mata atlântica  \n",
       "39                                  Não tenho certeza  "
      ]
     },
     "metadata": {},
     "output_type": "display_data"
    }
   ],
   "source": [
    "tabela = pd.read_csv('parques_biomas_completo.csv')\n",
    "display(tabela)"
   ]
  },
  {
   "cell_type": "code",
   "execution_count": 6,
   "metadata": {},
   "outputs": [
    {
     "data": {
      "text/plain": [
       "bioma\n",
       "Caatinga                             12\n",
       "Mata Atlântica                        7\n",
       "Cerrado                               6\n",
       "Amazônia                              4\n",
       "Caatinga, Cerrado                     4\n",
       "Mata Atlântica, Cerrado               1\n",
       "Pantanal, Cerrado, Mata Atlântica     1\n",
       "Mata Atlântica, Pampa                 1\n",
       "Incerto                               1\n",
       "Caatinga, Mata Atlântica              1\n",
       "Pampa                                 1\n",
       "Cerrado, Mata Atlântica               1\n",
       "Name: count, dtype: int64"
      ]
     },
     "metadata": {},
     "output_type": "display_data"
    }
   ],
   "source": [
    "display(tabela['bioma'].value_counts())"
   ]
  },
  {
   "cell_type": "code",
   "execution_count": 11,
   "metadata": {},
   "outputs": [
    {
     "data": {
      "application/vnd.plotly.v1+json": {
       "config": {
        "plotlyServerURL": "https://plot.ly"
       },
       "data": [
        {
         "alignmentgroup": "True",
         "bingroup": "x",
         "hovertemplate": "mata_atlantica?=0<br>estado=%{x}<br>count=%{y}<extra></extra>",
         "legendgroup": "0",
         "marker": {
          "color": "#636efa",
          "pattern": {
           "shape": ""
          }
         },
         "name": "0",
         "offsetgroup": "0",
         "orientation": "v",
         "showlegend": true,
         "type": "histogram",
         "x": [
          "BA",
          "BA",
          "BA",
          "CE",
          "AM",
          "GO",
          "GO/MT",
          "MT",
          "RN",
          "PI",
          "MG",
          "PI",
          "BA",
          "BA",
          "PA",
          "RO",
          "MG",
          "GO",
          "BA",
          "SE/AL",
          "PB",
          "CE",
          "RR",
          "PI",
          "PI",
          "RS",
          "BA",
          "BA"
         ],
         "xaxis": "x",
         "yaxis": "y"
        },
        {
         "alignmentgroup": "True",
         "bingroup": "x",
         "hovertemplate": "mata_atlantica?=1<br>estado=%{x}<br>count=%{y}<extra></extra>",
         "legendgroup": "1",
         "marker": {
          "color": "#EF553B",
          "pattern": {
           "shape": ""
          }
         },
         "name": "1",
         "offsetgroup": "1",
         "orientation": "v",
         "showlegend": true,
         "type": "histogram",
         "x": [
          "PR/SP",
          "MG",
          "PE",
          "MS",
          "PE",
          "RS",
          "RS/SC",
          "PE",
          "CE",
          "RJ",
          "SP",
          "PR"
         ],
         "xaxis": "x",
         "yaxis": "y"
        }
       ],
       "layout": {
        "barmode": "relative",
        "legend": {
         "title": {
          "text": "mata_atlantica?"
         },
         "tracegroupgap": 0
        },
        "template": {
         "data": {
          "bar": [
           {
            "error_x": {
             "color": "#2a3f5f"
            },
            "error_y": {
             "color": "#2a3f5f"
            },
            "marker": {
             "line": {
              "color": "#E5ECF6",
              "width": 0.5
             },
             "pattern": {
              "fillmode": "overlay",
              "size": 10,
              "solidity": 0.2
             }
            },
            "type": "bar"
           }
          ],
          "barpolar": [
           {
            "marker": {
             "line": {
              "color": "#E5ECF6",
              "width": 0.5
             },
             "pattern": {
              "fillmode": "overlay",
              "size": 10,
              "solidity": 0.2
             }
            },
            "type": "barpolar"
           }
          ],
          "carpet": [
           {
            "aaxis": {
             "endlinecolor": "#2a3f5f",
             "gridcolor": "white",
             "linecolor": "white",
             "minorgridcolor": "white",
             "startlinecolor": "#2a3f5f"
            },
            "baxis": {
             "endlinecolor": "#2a3f5f",
             "gridcolor": "white",
             "linecolor": "white",
             "minorgridcolor": "white",
             "startlinecolor": "#2a3f5f"
            },
            "type": "carpet"
           }
          ],
          "choropleth": [
           {
            "colorbar": {
             "outlinewidth": 0,
             "ticks": ""
            },
            "type": "choropleth"
           }
          ],
          "contour": [
           {
            "colorbar": {
             "outlinewidth": 0,
             "ticks": ""
            },
            "colorscale": [
             [
              0,
              "#0d0887"
             ],
             [
              0.1111111111111111,
              "#46039f"
             ],
             [
              0.2222222222222222,
              "#7201a8"
             ],
             [
              0.3333333333333333,
              "#9c179e"
             ],
             [
              0.4444444444444444,
              "#bd3786"
             ],
             [
              0.5555555555555556,
              "#d8576b"
             ],
             [
              0.6666666666666666,
              "#ed7953"
             ],
             [
              0.7777777777777778,
              "#fb9f3a"
             ],
             [
              0.8888888888888888,
              "#fdca26"
             ],
             [
              1,
              "#f0f921"
             ]
            ],
            "type": "contour"
           }
          ],
          "contourcarpet": [
           {
            "colorbar": {
             "outlinewidth": 0,
             "ticks": ""
            },
            "type": "contourcarpet"
           }
          ],
          "heatmap": [
           {
            "colorbar": {
             "outlinewidth": 0,
             "ticks": ""
            },
            "colorscale": [
             [
              0,
              "#0d0887"
             ],
             [
              0.1111111111111111,
              "#46039f"
             ],
             [
              0.2222222222222222,
              "#7201a8"
             ],
             [
              0.3333333333333333,
              "#9c179e"
             ],
             [
              0.4444444444444444,
              "#bd3786"
             ],
             [
              0.5555555555555556,
              "#d8576b"
             ],
             [
              0.6666666666666666,
              "#ed7953"
             ],
             [
              0.7777777777777778,
              "#fb9f3a"
             ],
             [
              0.8888888888888888,
              "#fdca26"
             ],
             [
              1,
              "#f0f921"
             ]
            ],
            "type": "heatmap"
           }
          ],
          "heatmapgl": [
           {
            "colorbar": {
             "outlinewidth": 0,
             "ticks": ""
            },
            "colorscale": [
             [
              0,
              "#0d0887"
             ],
             [
              0.1111111111111111,
              "#46039f"
             ],
             [
              0.2222222222222222,
              "#7201a8"
             ],
             [
              0.3333333333333333,
              "#9c179e"
             ],
             [
              0.4444444444444444,
              "#bd3786"
             ],
             [
              0.5555555555555556,
              "#d8576b"
             ],
             [
              0.6666666666666666,
              "#ed7953"
             ],
             [
              0.7777777777777778,
              "#fb9f3a"
             ],
             [
              0.8888888888888888,
              "#fdca26"
             ],
             [
              1,
              "#f0f921"
             ]
            ],
            "type": "heatmapgl"
           }
          ],
          "histogram": [
           {
            "marker": {
             "pattern": {
              "fillmode": "overlay",
              "size": 10,
              "solidity": 0.2
             }
            },
            "type": "histogram"
           }
          ],
          "histogram2d": [
           {
            "colorbar": {
             "outlinewidth": 0,
             "ticks": ""
            },
            "colorscale": [
             [
              0,
              "#0d0887"
             ],
             [
              0.1111111111111111,
              "#46039f"
             ],
             [
              0.2222222222222222,
              "#7201a8"
             ],
             [
              0.3333333333333333,
              "#9c179e"
             ],
             [
              0.4444444444444444,
              "#bd3786"
             ],
             [
              0.5555555555555556,
              "#d8576b"
             ],
             [
              0.6666666666666666,
              "#ed7953"
             ],
             [
              0.7777777777777778,
              "#fb9f3a"
             ],
             [
              0.8888888888888888,
              "#fdca26"
             ],
             [
              1,
              "#f0f921"
             ]
            ],
            "type": "histogram2d"
           }
          ],
          "histogram2dcontour": [
           {
            "colorbar": {
             "outlinewidth": 0,
             "ticks": ""
            },
            "colorscale": [
             [
              0,
              "#0d0887"
             ],
             [
              0.1111111111111111,
              "#46039f"
             ],
             [
              0.2222222222222222,
              "#7201a8"
             ],
             [
              0.3333333333333333,
              "#9c179e"
             ],
             [
              0.4444444444444444,
              "#bd3786"
             ],
             [
              0.5555555555555556,
              "#d8576b"
             ],
             [
              0.6666666666666666,
              "#ed7953"
             ],
             [
              0.7777777777777778,
              "#fb9f3a"
             ],
             [
              0.8888888888888888,
              "#fdca26"
             ],
             [
              1,
              "#f0f921"
             ]
            ],
            "type": "histogram2dcontour"
           }
          ],
          "mesh3d": [
           {
            "colorbar": {
             "outlinewidth": 0,
             "ticks": ""
            },
            "type": "mesh3d"
           }
          ],
          "parcoords": [
           {
            "line": {
             "colorbar": {
              "outlinewidth": 0,
              "ticks": ""
             }
            },
            "type": "parcoords"
           }
          ],
          "pie": [
           {
            "automargin": true,
            "type": "pie"
           }
          ],
          "scatter": [
           {
            "fillpattern": {
             "fillmode": "overlay",
             "size": 10,
             "solidity": 0.2
            },
            "type": "scatter"
           }
          ],
          "scatter3d": [
           {
            "line": {
             "colorbar": {
              "outlinewidth": 0,
              "ticks": ""
             }
            },
            "marker": {
             "colorbar": {
              "outlinewidth": 0,
              "ticks": ""
             }
            },
            "type": "scatter3d"
           }
          ],
          "scattercarpet": [
           {
            "marker": {
             "colorbar": {
              "outlinewidth": 0,
              "ticks": ""
             }
            },
            "type": "scattercarpet"
           }
          ],
          "scattergeo": [
           {
            "marker": {
             "colorbar": {
              "outlinewidth": 0,
              "ticks": ""
             }
            },
            "type": "scattergeo"
           }
          ],
          "scattergl": [
           {
            "marker": {
             "colorbar": {
              "outlinewidth": 0,
              "ticks": ""
             }
            },
            "type": "scattergl"
           }
          ],
          "scattermapbox": [
           {
            "marker": {
             "colorbar": {
              "outlinewidth": 0,
              "ticks": ""
             }
            },
            "type": "scattermapbox"
           }
          ],
          "scatterpolar": [
           {
            "marker": {
             "colorbar": {
              "outlinewidth": 0,
              "ticks": ""
             }
            },
            "type": "scatterpolar"
           }
          ],
          "scatterpolargl": [
           {
            "marker": {
             "colorbar": {
              "outlinewidth": 0,
              "ticks": ""
             }
            },
            "type": "scatterpolargl"
           }
          ],
          "scatterternary": [
           {
            "marker": {
             "colorbar": {
              "outlinewidth": 0,
              "ticks": ""
             }
            },
            "type": "scatterternary"
           }
          ],
          "surface": [
           {
            "colorbar": {
             "outlinewidth": 0,
             "ticks": ""
            },
            "colorscale": [
             [
              0,
              "#0d0887"
             ],
             [
              0.1111111111111111,
              "#46039f"
             ],
             [
              0.2222222222222222,
              "#7201a8"
             ],
             [
              0.3333333333333333,
              "#9c179e"
             ],
             [
              0.4444444444444444,
              "#bd3786"
             ],
             [
              0.5555555555555556,
              "#d8576b"
             ],
             [
              0.6666666666666666,
              "#ed7953"
             ],
             [
              0.7777777777777778,
              "#fb9f3a"
             ],
             [
              0.8888888888888888,
              "#fdca26"
             ],
             [
              1,
              "#f0f921"
             ]
            ],
            "type": "surface"
           }
          ],
          "table": [
           {
            "cells": {
             "fill": {
              "color": "#EBF0F8"
             },
             "line": {
              "color": "white"
             }
            },
            "header": {
             "fill": {
              "color": "#C8D4E3"
             },
             "line": {
              "color": "white"
             }
            },
            "type": "table"
           }
          ]
         },
         "layout": {
          "annotationdefaults": {
           "arrowcolor": "#2a3f5f",
           "arrowhead": 0,
           "arrowwidth": 1
          },
          "autotypenumbers": "strict",
          "coloraxis": {
           "colorbar": {
            "outlinewidth": 0,
            "ticks": ""
           }
          },
          "colorscale": {
           "diverging": [
            [
             0,
             "#8e0152"
            ],
            [
             0.1,
             "#c51b7d"
            ],
            [
             0.2,
             "#de77ae"
            ],
            [
             0.3,
             "#f1b6da"
            ],
            [
             0.4,
             "#fde0ef"
            ],
            [
             0.5,
             "#f7f7f7"
            ],
            [
             0.6,
             "#e6f5d0"
            ],
            [
             0.7,
             "#b8e186"
            ],
            [
             0.8,
             "#7fbc41"
            ],
            [
             0.9,
             "#4d9221"
            ],
            [
             1,
             "#276419"
            ]
           ],
           "sequential": [
            [
             0,
             "#0d0887"
            ],
            [
             0.1111111111111111,
             "#46039f"
            ],
            [
             0.2222222222222222,
             "#7201a8"
            ],
            [
             0.3333333333333333,
             "#9c179e"
            ],
            [
             0.4444444444444444,
             "#bd3786"
            ],
            [
             0.5555555555555556,
             "#d8576b"
            ],
            [
             0.6666666666666666,
             "#ed7953"
            ],
            [
             0.7777777777777778,
             "#fb9f3a"
            ],
            [
             0.8888888888888888,
             "#fdca26"
            ],
            [
             1,
             "#f0f921"
            ]
           ],
           "sequentialminus": [
            [
             0,
             "#0d0887"
            ],
            [
             0.1111111111111111,
             "#46039f"
            ],
            [
             0.2222222222222222,
             "#7201a8"
            ],
            [
             0.3333333333333333,
             "#9c179e"
            ],
            [
             0.4444444444444444,
             "#bd3786"
            ],
            [
             0.5555555555555556,
             "#d8576b"
            ],
            [
             0.6666666666666666,
             "#ed7953"
            ],
            [
             0.7777777777777778,
             "#fb9f3a"
            ],
            [
             0.8888888888888888,
             "#fdca26"
            ],
            [
             1,
             "#f0f921"
            ]
           ]
          },
          "colorway": [
           "#636efa",
           "#EF553B",
           "#00cc96",
           "#ab63fa",
           "#FFA15A",
           "#19d3f3",
           "#FF6692",
           "#B6E880",
           "#FF97FF",
           "#FECB52"
          ],
          "font": {
           "color": "#2a3f5f"
          },
          "geo": {
           "bgcolor": "white",
           "lakecolor": "white",
           "landcolor": "#E5ECF6",
           "showlakes": true,
           "showland": true,
           "subunitcolor": "white"
          },
          "hoverlabel": {
           "align": "left"
          },
          "hovermode": "closest",
          "mapbox": {
           "style": "light"
          },
          "paper_bgcolor": "white",
          "plot_bgcolor": "#E5ECF6",
          "polar": {
           "angularaxis": {
            "gridcolor": "white",
            "linecolor": "white",
            "ticks": ""
           },
           "bgcolor": "#E5ECF6",
           "radialaxis": {
            "gridcolor": "white",
            "linecolor": "white",
            "ticks": ""
           }
          },
          "scene": {
           "xaxis": {
            "backgroundcolor": "#E5ECF6",
            "gridcolor": "white",
            "gridwidth": 2,
            "linecolor": "white",
            "showbackground": true,
            "ticks": "",
            "zerolinecolor": "white"
           },
           "yaxis": {
            "backgroundcolor": "#E5ECF6",
            "gridcolor": "white",
            "gridwidth": 2,
            "linecolor": "white",
            "showbackground": true,
            "ticks": "",
            "zerolinecolor": "white"
           },
           "zaxis": {
            "backgroundcolor": "#E5ECF6",
            "gridcolor": "white",
            "gridwidth": 2,
            "linecolor": "white",
            "showbackground": true,
            "ticks": "",
            "zerolinecolor": "white"
           }
          },
          "shapedefaults": {
           "line": {
            "color": "#2a3f5f"
           }
          },
          "ternary": {
           "aaxis": {
            "gridcolor": "white",
            "linecolor": "white",
            "ticks": ""
           },
           "baxis": {
            "gridcolor": "white",
            "linecolor": "white",
            "ticks": ""
           },
           "bgcolor": "#E5ECF6",
           "caxis": {
            "gridcolor": "white",
            "linecolor": "white",
            "ticks": ""
           }
          },
          "title": {
           "x": 0.05
          },
          "xaxis": {
           "automargin": true,
           "gridcolor": "white",
           "linecolor": "white",
           "ticks": "",
           "title": {
            "standoff": 15
           },
           "zerolinecolor": "white",
           "zerolinewidth": 2
          },
          "yaxis": {
           "automargin": true,
           "gridcolor": "white",
           "linecolor": "white",
           "ticks": "",
           "title": {
            "standoff": 15
           },
           "zerolinecolor": "white",
           "zerolinewidth": 2
          }
         }
        },
        "title": {
         "text": "Quantidade de parques por estado"
        },
        "xaxis": {
         "anchor": "y",
         "domain": [
          0,
          1
         ],
         "title": {
          "text": "estado"
         }
        },
        "yaxis": {
         "anchor": "x",
         "domain": [
          0,
          1
         ],
         "title": {
          "text": "count"
         }
        }
       }
      }
     },
     "metadata": {},
     "output_type": "display_data"
    }
   ],
   "source": [
    "grafico = px.histogram(tabela, x='estado', color='mata_atlantica?', title='Quantidade de parques por estado')\n",
    "grafico.show()"
   ]
  }
 ],
 "metadata": {
  "kernelspec": {
   "display_name": "Python 3",
   "language": "python",
   "name": "python3"
  },
  "language_info": {
   "codemirror_mode": {
    "name": "ipython",
    "version": 3
   },
   "file_extension": ".py",
   "mimetype": "text/x-python",
   "name": "python",
   "nbconvert_exporter": "python",
   "pygments_lexer": "ipython3",
   "version": "3.13.1"
  }
 },
 "nbformat": 4,
 "nbformat_minor": 2
}
